{
 "cells": [
  {
   "cell_type": "code",
   "execution_count": 1,
   "metadata": {},
   "outputs": [
    {
     "name": "stderr",
     "output_type": "stream",
     "text": [
      "Using TensorFlow backend.\n"
     ]
    }
   ],
   "source": [
    "import tensorflow as tf\n",
    "import matplotlib.pyplot as plt\n",
    "import numpy as np\n",
    "import os\n",
    "from itertools import zip_longest\n",
    "from collections import defaultdict\n",
    "from glob import iglob\n",
    "from utils import read_wav, extract_feats, read_dataset, batch, decode, list_2d_to_sparse\n",
    "from IPython.display import Audio\n",
    "from sklearn.model_selection import train_test_split\n",
    "from IPython.core.display import HTML\n",
    "from random import choice\n",
    "\n",
    "from keras.layers import LSTM, Dense, Convolution1D\n",
    "from keras.models import Sequential\n",
    "from keras.layers.wrappers import TimeDistributed, Bidirectional\n",
    "\n",
    "%matplotlib inline"
   ]
  },
  {
   "cell_type": "code",
   "execution_count": 6,
   "metadata": {
    "collapsed": true
   },
   "outputs": [],
   "source": [
    "TRAIN_PATH = \"/toshiba/TEDLIUM_release2/train/\"\n",
    "TEST_PATH = \"/toshiba/TEDLIUM_release2/test/\""
   ]
  },
  {
   "cell_type": "code",
   "execution_count": 3,
   "metadata": {
    "collapsed": true
   },
   "outputs": [],
   "source": [
    "vocab = {' ': 0,\n",
    "         \"'\": 1,\n",
    "         'a': 2,\n",
    "         'b': 3,\n",
    "         'c': 4,\n",
    "         'd': 5,\n",
    "         'e': 6,\n",
    "         'f': 7,\n",
    "         'g': 8,\n",
    "         'h': 9,\n",
    "         'i': 10,\n",
    "         'j': 11,\n",
    "         'k': 12,\n",
    "         'l': 13,\n",
    "         'm': 14,\n",
    "         'n': 15,\n",
    "         'o': 16,\n",
    "         'p': 17,\n",
    "         'q': 18,\n",
    "         'r': 19,\n",
    "         's': 20,\n",
    "         't': 21,\n",
    "         'u': 22,\n",
    "         'v': 23,\n",
    "         'w': 24,\n",
    "         'x': 25,\n",
    "         'y': 26,\n",
    "         'z': 27,\n",
    "         'ă': 28,\n",
    "         'ō': 29,\n",
    "         'ť': 30\n",
    "}\n",
    "inv_vocab = dict(zip(vocab.values(), vocab.keys()))"
   ]
  },
  {
   "cell_type": "code",
   "execution_count": null,
   "metadata": {
    "collapsed": true
   },
   "outputs": [],
   "source": [
    "def batch(generator, batch_size):\n",
    "    num_features = None\n",
    "    while True:\n",
    "        X_batch = []\n",
    "        y_batch = []\n",
    "        for i in range(batch_size):\n",
    "            X, y = next(generator)\n",
    "            if len(y) <= \n",
    "            if num_features is None:\n",
    "                num_features = X.shape[1]\n",
    "            X_batch.append(X)\n",
    "            y_batch.append(list(map(lambda x: vocab[x], y)))\n",
    "        sequence_lengths = list(map(len, X_batch))\n",
    "        X_batch_padded = np.array(list(zip_longest(*X_batch, fillvalue=np.zeros(num_features)))).transpose([1, 0, 2])\n",
    "        yield X_batch_padded, sequence_lengths, list_2d_to_sparse(y_batch), y_batch\n",
    "        "
   ]
  },
  {
   "cell_type": "code",
   "execution_count": 4,
   "metadata": {
    "collapsed": true
   },
   "outputs": [],
   "source": [
    "def tedlium_gen(path, max_opened_files=10):\n",
    "    wav_path = os.path.join(path, \"sph\")\n",
    "    stm_path = os.path.join(path, \"stm\")\n",
    "    print(\"Reading stms\")\n",
    "    stms = {}\n",
    "    for stm_file in iglob(os.path.join(stm_path, \"*.stm\")):\n",
    "        session_name = os.path.basename(stm_file).split(\".stm\")[0]\n",
    "        stms[session_name] = []\n",
    "        with open(stm_file, \"r\") as fin:\n",
    "            for line in fin:\n",
    "                segments = line.strip().split()\n",
    "                start = float(segments[3])\n",
    "                stop = float(segments[4])\n",
    "                text = \" \".join(segments[6:])\n",
    "                stms[session_name].append((start, stop, text))\n",
    "                \n",
    "                \n",
    "    print(\"Building wav cache\")\n",
    "    \n",
    "    wav_cache = {}\n",
    "    \n",
    "    cache_initial_population = np.random.choice(tuple(stms.keys()), size=max_opened_files)\n",
    "    for session_name in cache_initial_population:\n",
    "        full_path = os.path.join(wav_path, session_name + \".wav\")\n",
    "        rate, data = read_wav(full_path)\n",
    "        free_phrase_ids = set(range(len(stms[session_name])))\n",
    "        wav_cache[session_name] = (rate, data[:, 0].astype(np.float32), free_phrase_ids)\n",
    "        \n",
    "    while True:\n",
    "        session_name = choice(tuple(wav_cache.keys()))\n",
    "        rate, data, free_phrase_ids = wav_cache[session_name]\n",
    "        phrase_id = choice(tuple(free_phrase_ids))\n",
    "        start, end, text = stms[session_name][phrase_id]\n",
    "        yield extract_feats(rate, data[int(start * rate):int(end * rate)])[2], text\n",
    "        \n",
    "        free_phrase_ids.remove(phrase_id)\n",
    "        if len(free_phrase_ids) == 0:\n",
    "            del wav_cache[session_name]\n",
    "            new_session_name = choice(tuple(stms.keys()))\n",
    "            full_path = os.path.join(wav_path, new_session_name + \".wav\")\n",
    "            rate, data = read_wav(full_path)\n",
    "            free_phrase_ids = set(range(len(stms[new_session_name])))\n",
    "            wav_cache[new_session_name] = (rate, data[:, 0].astype(np.float32), free_phrase_ids)"
   ]
  },
  {
   "cell_type": "code",
   "execution_count": 5,
   "metadata": {
    "collapsed": true
   },
   "outputs": [],
   "source": []
  },
  {
   "cell_type": "code",
   "execution_count": null,
   "metadata": {
    "collapsed": true
   },
   "outputs": [],
   "source": []
  },
  {
   "cell_type": "code",
   "execution_count": null,
   "metadata": {
    "collapsed": true
   },
   "outputs": [],
   "source": []
  },
  {
   "cell_type": "code",
   "execution_count": 9,
   "metadata": {
    "collapsed": true
   },
   "outputs": [],
   "source": [
    "import os\n",
    "from glob import glob\n",
    "from multiprocessing import Pool\n",
    "from scipy.io.wavfile import read, write"
   ]
  },
  {
   "cell_type": "code",
   "execution_count": 19,
   "metadata": {
    "scrolled": false
   },
   "outputs": [],
   "source": [
    "session_names = list(map(lambda x: x.split(\".stm\")[0], os.listdir(os.path.join(TRAIN_PATH, \"stm\"))))"
   ]
  },
  {
   "cell_type": "code",
   "execution_count": 11,
   "metadata": {
    "collapsed": true
   },
   "outputs": [],
   "source": [
    "def extract_ted_data(session_name, stm_path, wav_path, write_wav_path):\n",
    "    stm_file = os.path.join(stm_path, session_name + \".stm\")\n",
    "    rate, data = read(os.path.join(wav_path, session_name + \".wav\"))\n",
    "    phrases = []\n",
    "    with open(stm_file, \"r\") as fin:\n",
    "        for line in fin:\n",
    "            segments = line.strip().split()\n",
    "            start = float(segments[3])\n",
    "            stop = float(segments[4])\n",
    "            text = \" \".join(segments[6:])\n",
    "            phrases.append((start, stop, text))\n",
    "    result = {}\n",
    "    for phrase in phrases:\n",
    "        start, stop, text = phrase\n",
    "        filename = \"{}_{}_{}.wav\".format(session_name, start, stop)\n",
    "        write(os.path.join(write_wav_path, filename),\n",
    "              rate, data[int(rate*start):int(rate*stop)])\n",
    "        result[filename] = text\n",
    "    return result"
   ]
  },
  {
   "cell_type": "code",
   "execution_count": null,
   "metadata": {},
   "outputs": [],
   "source": [
    "extract_ted_data(\"AlGore_2008\", os.path.join(TRAIN_PATH, \"stm\"), os.path.join(TRAIN_PATH, \"sph\"), \"/toshiba/tmp\")"
   ]
  },
  {
   "cell_type": "code",
   "execution_count": 14,
   "metadata": {
    "collapsed": true
   },
   "outputs": [],
   "source": [
    "class Extractor:\n",
    "    def __init__(self, stm_path, wav_path, write_wav_path):\n",
    "        self.stm_path = stm_path\n",
    "        self.wav_path = wav_path\n",
    "        self.write_wav_path = write_wav_path\n",
    "        \n",
    "    def __call__(self, session_name):\n",
    "        return extract_ted_data(session_name, self.stm_path, self.wav_path, self.write_wav_path)\n",
    "\n",
    "extractor = Extractor(os.path.join(TRAIN_PATH, \"stm\"), os.path.join(TRAIN_PATH, \"sph\"), \"/toshiba/tedlium_phrases/\")"
   ]
  },
  {
   "cell_type": "code",
   "execution_count": 20,
   "metadata": {
    "collapsed": true
   },
   "outputs": [],
   "source": [
    "with Pool(8) as p:\n",
    "    result = p.map(extractor, session_names)"
   ]
  },
  {
   "cell_type": "code",
   "execution_count": 22,
   "metadata": {},
   "outputs": [
    {
     "data": {
      "text/plain": [
       "1495"
      ]
     },
     "execution_count": 22,
     "metadata": {},
     "output_type": "execute_result"
    }
   ],
   "source": [
    "len(result)"
   ]
  },
  {
   "cell_type": "code",
   "execution_count": 23,
   "metadata": {},
   "outputs": [
    {
     "data": {
      "text/plain": [
       "{'GaryWolf_2010S_119.43_127.66.wav': 'the incredible detailed information that you can get from just one sensor like this this kind of sensor is in the',\n",
       " 'GaryWolf_2010S_136.57_144.01.wav': \"has just that sensor in it you're probably familiar with the nike plus system i just put it up because that little blue dot is the sensor\",\n",
       " 'GaryWolf_2010S_156.1_162.72.wav': 'strap that people use to transmit heart rate data to their nike plus system this is a beautiful new',\n",
       " 'GaryWolf_2010S_17.94_25.28.wav': 'i got up this morning at six ten am after going to sleep at twelve forty five am i was awakened once during the night',\n",
       " 'GaryWolf_2010S_171.96_181.68.wav': 'the sensor is just a little strip of metal in that headband there the rest of it is the bedside console just for reference this is a sleep tracking system from just a few years ago i mean really',\n",
       " 'GaryWolf_2010S_193.61_208.17.wav': 'is a very small gps transceiver which gives you the date and location of an asthma incident giving you a new awareness of your vulnerability in relation to time and environmental factors',\n",
       " 'GaryWolf_2010S_209.07_218.87.wav': 'now we know that new tools are changing our sense of self in the world these tiny sensors that gather data in nature',\n",
       " 'GaryWolf_2010S_219.23_228.28.wav': 'the ubiquitous computing that allows that data to be understood and used and of course the social networks that allow people to collaborate and contribute',\n",
       " 'GaryWolf_2010S_230.46_240.34.wav': \"but we think of these tools as pointing outward as windows and i'd just like to invite you to think of them as also turning inward\",\n",
       " 'GaryWolf_2010S_240.79_252.46.wav': 'and becoming mirrors so when we think about using them to get some systematic improvement we also think about how they can be useful for self improvement for self discovery self awareness self knowledge',\n",
       " 'GaryWolf_2010S_253.82_264.77.wav': \"here 's a biometric device a pair of apple earbuds last year apple filed some patents to get blood oxygenation heart rate and body temperature via the earbuds\",\n",
       " 'GaryWolf_2010S_280.59_290.1.wav': \"tell you that it's also for self knowledge and the self isn't the only thing it's not even most things the self is just our operation center\",\n",
       " 'GaryWolf_2010S_290.86_302.85.wav': 'our consciousness our moral compass so if we want to act more effectively in the world we have to get to know ourselves better thank you',\n",
       " 'GaryWolf_2010S_35.94_44.43.wav': 'about six hundred milligrams of caffeine zero of alcohol and my score on the narcissism personality index or the npi sixteen is',\n",
       " 'GaryWolf_2010S_44.49_58.92.wav': \"a reassuring zero point three one we know that numbers are useful for us when we advertise manage govern search i'm going to talk about how they're useful when we reflect learn remember\",\n",
       " 'GaryWolf_2010S_59.53_73.46.wav': 'and want to improve a few year ago kevin kelly my partner and i noticed that people were subjecting themselves to regimes of quantitative measurement and self tracking that went far beyond the ordinary familiar habits such as stepping on a scale every day',\n",
       " 'GaryWolf_2010S_74.18_85.81.wav': 'people were tracking their food via twitter their kids diapers on their iphone they were making detailed journals of their spending their mood their symptoms their treatments',\n",
       " 'GaryWolf_2010S_86.69_99.5.wav': 'now we know some of the technological facts that are driving this change in our lifestyle the uptake and diffusion of mobile devices the exponential improvement in data storage and data processing'}"
      ]
     },
     "execution_count": 23,
     "metadata": {},
     "output_type": "execute_result"
    }
   ],
   "source": [
    "result[0]"
   ]
  },
  {
   "cell_type": "code",
   "execution_count": 24,
   "metadata": {
    "collapsed": true
   },
   "outputs": [],
   "source": [
    "result_all = {}\n",
    "for d in result:\n",
    "    result_all.update(d)"
   ]
  },
  {
   "cell_type": "code",
   "execution_count": 27,
   "metadata": {},
   "outputs": [
    {
     "data": {
      "text/plain": [
       "92973"
      ]
     },
     "execution_count": 27,
     "metadata": {},
     "output_type": "execute_result"
    }
   ],
   "source": [
    "len(result_all)"
   ]
  },
  {
   "cell_type": "code",
   "execution_count": 29,
   "metadata": {
    "collapsed": true
   },
   "outputs": [],
   "source": [
    "with open(\"/toshiba/tedlium_phrases.txt\", \"w\") as fout:\n",
    "    for k, v in result_all.items():\n",
    "        fout.write(k + \"\\t\" + v + \"\\n\")"
   ]
  },
  {
   "cell_type": "code",
   "execution_count": null,
   "metadata": {
    "collapsed": true
   },
   "outputs": [],
   "source": []
  }
 ],
 "metadata": {
  "kernelspec": {
   "display_name": "Python 3",
   "language": "python",
   "name": "python3"
  },
  "language_info": {
   "codemirror_mode": {
    "name": "ipython",
    "version": 3
   },
   "file_extension": ".py",
   "mimetype": "text/x-python",
   "name": "python",
   "nbconvert_exporter": "python",
   "pygments_lexer": "ipython3",
   "version": "3.6.1"
  }
 },
 "nbformat": 4,
 "nbformat_minor": 2
}
